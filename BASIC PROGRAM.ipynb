{
 "cells": [
  {
   "cell_type": "code",
   "execution_count": 1,
   "id": "86f2e39b",
   "metadata": {},
   "outputs": [],
   "source": [
    "# swapping number"
   ]
  },
  {
   "cell_type": "code",
   "execution_count": 3,
   "id": "efe3116a",
   "metadata": {},
   "outputs": [
    {
     "name": "stdout",
     "output_type": "stream",
     "text": [
      "value of a: 5 value of b: 8\n"
     ]
    }
   ],
   "source": [
    "a=8\n",
    "b=5\n",
    "\n",
    "# a=a+b  \n",
    "a,b=b,a \n",
    "# b=a-b           \n",
    "# a=a-b\n",
    "   \n",
    "print(\"value of a:\",a,\"value of b:\",b)"
   ]
  },
  {
   "cell_type": "code",
   "execution_count": 3,
   "id": "d0b1ec0f",
   "metadata": {},
   "outputs": [],
   "source": [
    "# reverse a string\n"
   ]
  },
  {
   "cell_type": "code",
   "execution_count": 4,
   "id": "9943f21c",
   "metadata": {},
   "outputs": [
    {
     "name": "stdout",
     "output_type": "stream",
     "text": [
      "dlrow olleh\n"
     ]
    }
   ],
   "source": [
    "def my_string(s):\n",
    "    return (s[::-1])\n",
    "s=my_string(\"hello world\")\n",
    "print(s)"
   ]
  },
  {
   "cell_type": "code",
   "execution_count": 5,
   "id": "cca13eb4",
   "metadata": {},
   "outputs": [],
   "source": [
    "# prime number"
   ]
  },
  {
   "cell_type": "code",
   "execution_count": 8,
   "id": "929c8c7c",
   "metadata": {},
   "outputs": [
    {
     "name": "stdout",
     "output_type": "stream",
     "text": [
      "5\n",
      "prime no\n"
     ]
    }
   ],
   "source": [
    "c=0\n",
    "n=int(input())\n",
    "for i in range(2,n+1):\n",
    "    if n%i==0:\n",
    "        c=c+1\n",
    "if c<2:\n",
    "    print(\"prime no\")\n",
    "else:\n",
    "    print(\"not a prime no\")"
   ]
  },
  {
   "cell_type": "code",
   "execution_count": 9,
   "id": "67d0a805",
   "metadata": {},
   "outputs": [],
   "source": [
    "# prime number via using function"
   ]
  },
  {
   "cell_type": "code",
   "execution_count": 4,
   "id": "7c9dc652",
   "metadata": {},
   "outputs": [],
   "source": [
    "def primenumber(n):\n",
    "    c=0\n",
    "\n",
    "    for i in range(2,n+1):\n",
    "        if n%i==0:\n",
    "            c=c+1\n",
    "    if n==1:\n",
    "        print(\"neither prime nor composite\")\n",
    "    elif c<2:\n",
    "        print(\"prime no\")\n",
    "    else:\n",
    "        print(\"not a prime no\")\n",
    "\n"
   ]
  },
  {
   "cell_type": "code",
   "execution_count": 8,
   "id": "44114114",
   "metadata": {},
   "outputs": [
    {
     "name": "stdout",
     "output_type": "stream",
     "text": [
      "prime no\n"
     ]
    }
   ],
   "source": [
    "primenumber(29)"
   ]
  },
  {
   "cell_type": "code",
   "execution_count": 13,
   "id": "7b805ce0",
   "metadata": {},
   "outputs": [],
   "source": [
    "# REVERSE NUMBER"
   ]
  },
  {
   "cell_type": "code",
   "execution_count": 14,
   "id": "2ce862d2",
   "metadata": {},
   "outputs": [
    {
     "name": "stdout",
     "output_type": "stream",
     "text": [
      "159\n",
      "reverse number\n",
      "951\n"
     ]
    }
   ],
   "source": [
    "n=int(input())\n",
    "s=0\n",
    "print(\"reverse number\")\n",
    "while n>0:\n",
    "    r=n%10\n",
    "    s=s*10+r\n",
    "    n=n//10\n",
    "print(s)\n"
   ]
  },
  {
   "cell_type": "code",
   "execution_count": 15,
   "id": "28419346",
   "metadata": {},
   "outputs": [],
   "source": [
    "# PALINDROME NUMBER\n"
   ]
  },
  {
   "cell_type": "code",
   "execution_count": 16,
   "id": "54be8be7",
   "metadata": {},
   "outputs": [
    {
     "name": "stdout",
     "output_type": "stream",
     "text": [
      "151\n",
      "palindrome number\n"
     ]
    }
   ],
   "source": [
    "n=int(input())\n",
    "k=n\n",
    "s=0\n",
    "while n>0:\n",
    "      r=n%10\n",
    "      s=s*10+r\n",
    "      n=n//10\n",
    "if k==s:\n",
    "      print(\"palindrome number\")\n",
    "else:\n",
    "      print(\"not a palindrome number\")"
   ]
  },
  {
   "cell_type": "code",
   "execution_count": 19,
   "id": "0b235b9b",
   "metadata": {},
   "outputs": [],
   "source": [
    "# ARMSTRONG NUMBER"
   ]
  },
  {
   "cell_type": "code",
   "execution_count": 26,
   "id": "91944074",
   "metadata": {},
   "outputs": [
    {
     "name": "stdout",
     "output_type": "stream",
     "text": [
      "371\n",
      "armstrong number\n"
     ]
    }
   ],
   "source": [
    "n=int(input())\n",
    "k=n\n",
    "s=0\n",
    "while n>0:\n",
    "    r=n%10\n",
    "    s=s+r**3\n",
    "    n=n//10\n",
    "if k==s:\n",
    "    print(\"armstrong number\")\n",
    "else:\n",
    "    print(\"not a armstrong number\")"
   ]
  },
  {
   "cell_type": "code",
   "execution_count": 29,
   "id": "2c04c791",
   "metadata": {},
   "outputs": [],
   "source": [
    "# FIBOANACCI SERIES\n"
   ]
  },
  {
   "cell_type": "code",
   "execution_count": 35,
   "id": "c54436eb",
   "metadata": {},
   "outputs": [
    {
     "name": "stdout",
     "output_type": "stream",
     "text": [
      "8\n",
      "0 1 1 2 3 5 8 13 \n"
     ]
    }
   ],
   "source": [
    "n=int(input())\n",
    "a=-1\n",
    "b=1\n",
    "for i in range(n):\n",
    "    sum=a+b\n",
    "    print(sum,end=\" \")\n",
    "    a=b\n",
    "    b=sum\n",
    "    \n",
    "print()"
   ]
  }
 ],
 "metadata": {
  "kernelspec": {
   "display_name": "Python 3",
   "language": "python",
   "name": "python3"
  },
  "language_info": {
   "codemirror_mode": {
    "name": "ipython",
    "version": 3
   },
   "file_extension": ".py",
   "mimetype": "text/x-python",
   "name": "python",
   "nbconvert_exporter": "python",
   "pygments_lexer": "ipython3",
   "version": "3.8.8"
  }
 },
 "nbformat": 4,
 "nbformat_minor": 5
}
